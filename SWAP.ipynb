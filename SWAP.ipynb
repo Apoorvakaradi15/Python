{
 "cells": [
  {
   "cell_type": "code",
   "execution_count": 2,
   "id": "82bcebe0-b158-4591-8c63-87c5b4ffde81",
   "metadata": {},
   "outputs": [
    {
     "name": "stdin",
     "output_type": "stream",
     "text": [
      "enter the value of a 10\n",
      "enter the value of b 20\n"
     ]
    },
    {
     "name": "stdout",
     "output_type": "stream",
     "text": [
      "the value of a is 20\n",
      "the value of b is 10\n"
     ]
    }
   ],
   "source": [
    "a=input(\"enter the value of a\")\n",
    "b=input(\"enter the value of b\")\n",
    "c=a\n",
    "a=b\n",
    "b=c\n",
    "print(\"the value of a is \"+ a)\n",
    "print(\"the value of b is \"+ b)\n"
   ]
  },
  {
   "cell_type": "code",
   "execution_count": null,
   "id": "6bdd917f-060e-43cc-9f14-bcdd04f4d9d2",
   "metadata": {},
   "outputs": [],
   "source": []
  }
 ],
 "metadata": {
  "kernelspec": {
   "display_name": "Python 3 (ipykernel)",
   "language": "python",
   "name": "python3"
  },
  "language_info": {
   "codemirror_mode": {
    "name": "ipython",
    "version": 3
   },
   "file_extension": ".py",
   "mimetype": "text/x-python",
   "name": "python",
   "nbconvert_exporter": "python",
   "pygments_lexer": "ipython3",
   "version": "3.11.7"
  }
 },
 "nbformat": 4,
 "nbformat_minor": 5
}
