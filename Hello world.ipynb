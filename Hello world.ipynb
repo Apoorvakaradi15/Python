{
 "cells": [
  {
   "cell_type": "code",
   "execution_count": 3,
   "id": "1a471bdb-1154-49b2-940f-2e6676ce19e7",
   "metadata": {},
   "outputs": [],
   "source": [
    "#PRINTING HELLO WORLD;PRINT IS an inbuilt function"
   ]
  },
  {
   "cell_type": "code",
   "execution_count": 2,
   "id": "64102b7e-51e9-48c9-a2d2-4a4ff9cbcace",
   "metadata": {},
   "outputs": [
    {
     "name": "stdout",
     "output_type": "stream",
     "text": [
      "hello world\n"
     ]
    }
   ],
   "source": [
    "print(\"hello world\")\n"
   ]
  },
  {
   "cell_type": "code",
   "execution_count": null,
   "id": "a05fe36e-a49d-4f6f-b9b7-c6085240e8de",
   "metadata": {},
   "outputs": [],
   "source": [
    "# string is  not terminated\n"
   ]
  },
  {
   "cell_type": "code",
   "execution_count": 1,
   "id": "c92485b2-ef99-4418-9045-66a78e6b8ce8",
   "metadata": {
    "scrolled": true
   },
   "outputs": [
    {
     "ename": "SyntaxError",
     "evalue": "unterminated string literal (detected at line 1) (1193905955.py, line 1)",
     "output_type": "error",
     "traceback": [
      "\u001b[1;36m  Cell \u001b[1;32mIn[1], line 1\u001b[1;36m\u001b[0m\n\u001b[1;33m    print(\"ghwyyw)\u001b[0m\n\u001b[1;37m          ^\u001b[0m\n\u001b[1;31mSyntaxError\u001b[0m\u001b[1;31m:\u001b[0m unterminated string literal (detected at line 1)\n"
     ]
    }
   ],
   "source": [
    "print(\"ghwyyw)"
   ]
  },
  {
   "cell_type": "code",
   "execution_count": null,
   "id": "7159c4dd-9e2f-4063-9565-42ae028398d2",
   "metadata": {},
   "outputs": [],
   "source": [
    "# the first single quote is taken as an opening of string and immediate next single quote is taken as closing one"
   ]
  },
  {
   "cell_type": "code",
   "execution_count": 2,
   "id": "bc64dccd-d014-4b00-8afc-c8215dad2b0a",
   "metadata": {},
   "outputs": [
    {
     "ename": "SyntaxError",
     "evalue": "invalid syntax. Perhaps you forgot a comma? (2336039809.py, line 1)",
     "output_type": "error",
     "traceback": [
      "\u001b[1;36m  Cell \u001b[1;32mIn[2], line 1\u001b[1;36m\u001b[0m\n\u001b[1;33m    print('print('hello world')')\u001b[0m\n\u001b[1;37m          ^\u001b[0m\n\u001b[1;31mSyntaxError\u001b[0m\u001b[1;31m:\u001b[0m invalid syntax. Perhaps you forgot a comma?\n"
     ]
    }
   ],
   "source": [
    "print('print('hello world')')"
   ]
  },
  {
   "cell_type": "code",
   "execution_count": 3,
   "id": "a440a613-5b55-4d29-9ba8-edd26d079fbb",
   "metadata": {},
   "outputs": [
    {
     "name": "stdout",
     "output_type": "stream",
     "text": [
      "print(\"hello world\")\n"
     ]
    }
   ],
   "source": [
    "print('print(\"hello world\")')"
   ]
  },
  {
   "cell_type": "code",
   "execution_count": null,
   "id": "a8e5a7c1-7f63-4176-884e-a66ecb65b7d2",
   "metadata": {},
   "outputs": [],
   "source": [
    "#new line "
   ]
  },
  {
   "cell_type": "code",
   "execution_count": 5,
   "id": "20432fc7-559c-4097-942b-b9ee3a417f7d",
   "metadata": {},
   "outputs": [
    {
     "name": "stdout",
     "output_type": "stream",
     "text": [
      "hello world\n",
      "hello world\n",
      "hello world\n"
     ]
    }
   ],
   "source": [
    "print(\"hello world\\nhello world\\nhello world\")"
   ]
  },
  {
   "cell_type": "code",
   "execution_count": null,
   "id": "2f9dd323-4908-470c-8874-265ed4294f1f",
   "metadata": {},
   "outputs": [],
   "source": [
    "#string conactenation"
   ]
  },
  {
   "cell_type": "code",
   "execution_count": 6,
   "id": "3b699423-6c71-46d7-889a-a1090acc4c57",
   "metadata": {},
   "outputs": [
    {
     "name": "stdout",
     "output_type": "stream",
     "text": [
      "hello  RBR\n"
     ]
    }
   ],
   "source": [
    "print(\"hello\"+\" \"+\" RBR\")"
   ]
  }
 ],
 "metadata": {
  "kernelspec": {
   "display_name": "Python 3 (ipykernel)",
   "language": "python",
   "name": "python3"
  },
  "language_info": {
   "codemirror_mode": {
    "name": "ipython",
    "version": 3
   },
   "file_extension": ".py",
   "mimetype": "text/x-python",
   "name": "python",
   "nbconvert_exporter": "python",
   "pygments_lexer": "ipython3",
   "version": "3.11.7"
  }
 },
 "nbformat": 4,
 "nbformat_minor": 5
}
