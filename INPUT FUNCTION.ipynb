{
 "cells": [
  {
   "cell_type": "code",
   "execution_count": null,
   "id": "69525c40-167a-4ebf-9f61-ea56a7d19018",
   "metadata": {},
   "outputs": [],
   "source": [
    "# INPUT FUNCTION"
   ]
  },
  {
   "cell_type": "code",
   "execution_count": null,
   "id": "e79ef756-26d1-403a-b915-8045db1129d0",
   "metadata": {},
   "outputs": [],
   "source": [
    "#SYNATX input(promt)"
   ]
  },
  {
   "cell_type": "code",
   "execution_count": 2,
   "id": "139f4465-915f-430e-9bde-3fc3ffbb993e",
   "metadata": {},
   "outputs": [
    {
     "name": "stdin",
     "output_type": "stream",
     "text": [
      "what is your name app\n"
     ]
    },
    {
     "data": {
      "text/plain": [
       "'app'"
      ]
     },
     "execution_count": 2,
     "metadata": {},
     "output_type": "execute_result"
    }
   ],
   "source": [
    "input('what is your name')"
   ]
  },
  {
   "cell_type": "code",
   "execution_count": 3,
   "id": "4dc6b551-dd02-4d49-a577-e9e8e279ebd4",
   "metadata": {},
   "outputs": [
    {
     "name": "stdin",
     "output_type": "stream",
     "text": [
      "what is your name app\n"
     ]
    },
    {
     "data": {
      "text/plain": [
       "'app'"
      ]
     },
     "execution_count": 3,
     "metadata": {},
     "output_type": "execute_result"
    }
   ],
   "source": [
    "input(\"what is your name\")"
   ]
  },
  {
   "cell_type": "code",
   "execution_count": null,
   "id": "59f86f2b-269b-4d5d-952c-0650c52e9bc5",
   "metadata": {},
   "outputs": [],
   "source": [
    "#exercise"
   ]
  },
  {
   "cell_type": "code",
   "execution_count": 4,
   "id": "35c3a45c-3d97-44a9-b6f5-783181394874",
   "metadata": {},
   "outputs": [
    {
     "name": "stdin",
     "output_type": "stream",
     "text": [
      "what is your name? app\n"
     ]
    },
    {
     "name": "stdout",
     "output_type": "stream",
     "text": [
      "hey app how are you?\n"
     ]
    }
   ],
   "source": [
    "print(\"hey \"+input(\"what is your name?\")+\" how are you?\")"
   ]
  },
  {
   "cell_type": "code",
   "execution_count": null,
   "id": "0da60e2c-c2a2-4475-a4d0-668ca2451b5f",
   "metadata": {},
   "outputs": [],
   "source": []
  }
 ],
 "metadata": {
  "kernelspec": {
   "display_name": "Python 3 (ipykernel)",
   "language": "python",
   "name": "python3"
  },
  "language_info": {
   "codemirror_mode": {
    "name": "ipython",
    "version": 3
   },
   "file_extension": ".py",
   "mimetype": "text/x-python",
   "name": "python",
   "nbconvert_exporter": "python",
   "pygments_lexer": "ipython3",
   "version": "3.11.7"
  }
 },
 "nbformat": 4,
 "nbformat_minor": 5
}
