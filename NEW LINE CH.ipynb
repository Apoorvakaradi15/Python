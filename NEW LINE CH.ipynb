{
 "cells": [
  {
   "cell_type": "code",
   "execution_count": null,
   "id": "662a6378-5a65-46fe-9b28-70a327b8929a",
   "metadata": {},
   "outputs": [],
   "source": [
    "#new line character\n"
   ]
  },
  {
   "cell_type": "code",
   "execution_count": 2,
   "id": "52e0fa22-a53a-499e-98b0-33576168411b",
   "metadata": {},
   "outputs": [
    {
     "name": "stdout",
     "output_type": "stream",
     "text": [
      "hello world\n",
      "hello world\n",
      "hello world\n"
     ]
    }
   ],
   "source": [
    "print(\"hello world\\nhello world\\nhello world\")"
   ]
  },
  {
   "cell_type": "code",
   "execution_count": null,
   "id": "8d716798-2b15-46f3-9e39-ed49b85528a9",
   "metadata": {},
   "outputs": [],
   "source": []
  }
 ],
 "metadata": {
  "kernelspec": {
   "display_name": "Python 3 (ipykernel)",
   "language": "python",
   "name": "python3"
  },
  "language_info": {
   "codemirror_mode": {
    "name": "ipython",
    "version": 3
   },
   "file_extension": ".py",
   "mimetype": "text/x-python",
   "name": "python",
   "nbconvert_exporter": "python",
   "pygments_lexer": "ipython3",
   "version": "3.11.7"
  }
 },
 "nbformat": 4,
 "nbformat_minor": 5
}
