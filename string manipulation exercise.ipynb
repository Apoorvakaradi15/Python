{
 "cells": [
  {
   "cell_type": "code",
   "execution_count": 3,
   "id": "75fc9e06-49e2-4e56-97a6-5bc262dcd22e",
   "metadata": {},
   "outputs": [
    {
     "name": "stdout",
     "output_type": "stream",
     "text": [
      "string manipulation exercise\n",
      "string concatenation is done with \"+\" sign\n",
      "e.g. print(\"hello\"+\" Apoorva\")\n",
      "new lines can be created with a backslash and  n \n"
     ]
    }
   ],
   "source": [
    "  print('string manipulation exercise\\nstring concatenation is done with \"+\" sign\\ne.g. print(\"hello\"+\" Apoorva\")\\nnew lines can be created with a backslash and  n ')"
   ]
  },
  {
   "cell_type": "code",
   "execution_count": null,
   "id": "e8470bff-ad00-4d0d-b6b6-e7a1e4ba1be9",
   "metadata": {},
   "outputs": [],
   "source": []
  }
 ],
 "metadata": {
  "kernelspec": {
   "display_name": "Python 3 (ipykernel)",
   "language": "python",
   "name": "python3"
  },
  "language_info": {
   "codemirror_mode": {
    "name": "ipython",
    "version": 3
   },
   "file_extension": ".py",
   "mimetype": "text/x-python",
   "name": "python",
   "nbconvert_exporter": "python",
   "pygments_lexer": "ipython3",
   "version": "3.11.7"
  }
 },
 "nbformat": 4,
 "nbformat_minor": 5
}
