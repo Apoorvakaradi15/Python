{
 "cells": [
  {
   "cell_type": "code",
   "execution_count": null,
   "id": "2f9bdd49-842e-49f1-851b-1e200851e1ed",
   "metadata": {},
   "outputs": [],
   "source": [
    "#EXERCISE 1"
   ]
  },
  {
   "cell_type": "code",
   "execution_count": 1,
   "id": "a1964e87-75d0-4527-a64f-b202420cfc2e",
   "metadata": {},
   "outputs": [
    {
     "name": "stdout",
     "output_type": "stream",
     "text": [
      "first program - python print function\n",
      "it is declared like this\n",
      "print('what to print')\n"
     ]
    }
   ],
   "source": [
    "print(\"first program - python print function\")\n",
    "print(\"it is declared like this\")\n",
    "print(\"print('what to print')\")"
   ]
  },
  {
   "cell_type": "code",
   "execution_count": null,
   "id": "d0164527-b8fb-4dd0-ac5f-27bd51011ad1",
   "metadata": {},
   "outputs": [],
   "source": []
  }
 ],
 "metadata": {
  "kernelspec": {
   "display_name": "Python 3 (ipykernel)",
   "language": "python",
   "name": "python3"
  },
  "language_info": {
   "codemirror_mode": {
    "name": "ipython",
    "version": 3
   },
   "file_extension": ".py",
   "mimetype": "text/x-python",
   "name": "python",
   "nbconvert_exporter": "python",
   "pygments_lexer": "ipython3",
   "version": "3.11.7"
  }
 },
 "nbformat": 4,
 "nbformat_minor": 5
}
