{
 "cells": [
  {
   "cell_type": "code",
   "execution_count": 2,
   "id": "a94bcb3e-6403-43f8-9895-c6054f87a6f2",
   "metadata": {},
   "outputs": [
    {
     "name": "stdout",
     "output_type": "stream",
     "text": [
      "string manipulation exercise\n",
      "string concatenation is done with \"+\" sign\n",
      "eg print(\"hello\"+\"apoorva\")\n",
      "new lines can be added with back slash and n\n"
     ]
    }
   ],
   "source": [
    "print('string manipulation exercise\\nstring concatenation is done with \"+\" sign\\neg print(\"hello\"+\"apoorva\")\\nnew lines can be added with back slash and n') "
   ]
  },
  {
   "cell_type": "code",
   "execution_count": null,
   "id": "b36fd64d-1d52-46b4-b963-bde22b793561",
   "metadata": {},
   "outputs": [],
   "source": []
  }
 ],
 "metadata": {
  "kernelspec": {
   "display_name": "Python 3 (ipykernel)",
   "language": "python",
   "name": "python3"
  },
  "language_info": {
   "codemirror_mode": {
    "name": "ipython",
    "version": 3
   },
   "file_extension": ".py",
   "mimetype": "text/x-python",
   "name": "python",
   "nbconvert_exporter": "python",
   "pygments_lexer": "ipython3",
   "version": "3.11.7"
  }
 },
 "nbformat": 4,
 "nbformat_minor": 5
}
