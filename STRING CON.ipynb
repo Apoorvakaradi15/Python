{
 "cells": [
  {
   "cell_type": "code",
   "execution_count": null,
   "id": "dc149a56-41e2-4694-b246-d8bfb50518e7",
   "metadata": {},
   "outputs": [],
   "source": [
    "#method 1"
   ]
  },
  {
   "cell_type": "code",
   "execution_count": 1,
   "id": "bf629d44-500d-4658-84e8-d696fe8c4c73",
   "metadata": {},
   "outputs": [
    {
     "name": "stdout",
     "output_type": "stream",
     "text": [
      "hello apoorva\n"
     ]
    }
   ],
   "source": [
    "print(\"hello \"+\"apoorva\")"
   ]
  },
  {
   "cell_type": "code",
   "execution_count": 2,
   "id": "04f56dba-56dd-4837-a14f-f6bd73bfb399",
   "metadata": {},
   "outputs": [
    {
     "name": "stdout",
     "output_type": "stream",
     "text": [
      "hello apoorva\n"
     ]
    }
   ],
   "source": [
    "print(\"hello\"+\" apoorva\")"
   ]
  },
  {
   "cell_type": "code",
   "execution_count": 3,
   "id": "44ae851f-5186-4fe7-b91b-c90af8fa3538",
   "metadata": {},
   "outputs": [
    {
     "name": "stdout",
     "output_type": "stream",
     "text": [
      "hello apoorva\n"
     ]
    }
   ],
   "source": [
    "print(\"hello\"+\" \"+\"apoorva\")"
   ]
  },
  {
   "cell_type": "code",
   "execution_count": null,
   "id": "d2143684-6678-4072-aab2-27240ada0668",
   "metadata": {},
   "outputs": [],
   "source": []
  }
 ],
 "metadata": {
  "kernelspec": {
   "display_name": "Python 3 (ipykernel)",
   "language": "python",
   "name": "python3"
  },
  "language_info": {
   "codemirror_mode": {
    "name": "ipython",
    "version": 3
   },
   "file_extension": ".py",
   "mimetype": "text/x-python",
   "name": "python",
   "nbconvert_exporter": "python",
   "pygments_lexer": "ipython3",
   "version": "3.11.7"
  }
 },
 "nbformat": 4,
 "nbformat_minor": 5
}
