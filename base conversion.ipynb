{
 "cells": [
  {
   "cell_type": "code",
   "execution_count": 5,
   "id": "99fac427-2df2-4919-a02b-03a7b20146f2",
   "metadata": {},
   "outputs": [],
   "source": [
    "a=0b111\n",
    "b=0o111\n",
    "c=0x111\n",
    "d=111"
   ]
  },
  {
   "cell_type": "code",
   "execution_count": null,
   "id": "546e2d7e-2c3a-4e6c-97fd-8424191e70d1",
   "metadata": {},
   "outputs": [],
   "source": [
    "#from any other number system to binary conversion"
   ]
  },
  {
   "cell_type": "code",
   "execution_count": 3,
   "id": "2bb91d7d-6d2a-46a3-a83d-36cedd7c919a",
   "metadata": {},
   "outputs": [
    {
     "data": {
      "text/plain": [
       "'0b1001001'"
      ]
     },
     "execution_count": 3,
     "metadata": {},
     "output_type": "execute_result"
    }
   ],
   "source": [
    "bin(b)"
   ]
  },
  {
   "cell_type": "code",
   "execution_count": 4,
   "id": "774bde49-f649-4834-95c7-1a3e92d5bede",
   "metadata": {},
   "outputs": [
    {
     "data": {
      "text/plain": [
       "'0b100010001'"
      ]
     },
     "execution_count": 4,
     "metadata": {},
     "output_type": "execute_result"
    }
   ],
   "source": [
    "bin(c)"
   ]
  },
  {
   "cell_type": "code",
   "execution_count": 6,
   "id": "42a68b32-2bd7-4d48-8248-ead226206523",
   "metadata": {},
   "outputs": [
    {
     "data": {
      "text/plain": [
       "'0b1101111'"
      ]
     },
     "execution_count": 6,
     "metadata": {},
     "output_type": "execute_result"
    }
   ],
   "source": [
    "bin(d)"
   ]
  },
  {
   "cell_type": "code",
   "execution_count": null,
   "id": "65dc3564-8118-45c3-ab26-b93a6ad3c21f",
   "metadata": {},
   "outputs": [],
   "source": [
    "#from any other number system to octal conversion"
   ]
  },
  {
   "cell_type": "code",
   "execution_count": 7,
   "id": "2fc44bb1-0015-4b49-8fa1-d4320fd5cf77",
   "metadata": {},
   "outputs": [
    {
     "data": {
      "text/plain": [
       "'0o7'"
      ]
     },
     "execution_count": 7,
     "metadata": {},
     "output_type": "execute_result"
    }
   ],
   "source": [
    "oct(a)"
   ]
  },
  {
   "cell_type": "code",
   "execution_count": 8,
   "id": "1a0292ac-0f2f-4ea9-948e-dade53ac7ba7",
   "metadata": {},
   "outputs": [
    {
     "data": {
      "text/plain": [
       "'0o421'"
      ]
     },
     "execution_count": 8,
     "metadata": {},
     "output_type": "execute_result"
    }
   ],
   "source": [
    "oct(c)"
   ]
  },
  {
   "cell_type": "code",
   "execution_count": 9,
   "id": "a43023af-d515-48af-95c4-34d19daf381d",
   "metadata": {},
   "outputs": [
    {
     "data": {
      "text/plain": [
       "'0o157'"
      ]
     },
     "execution_count": 9,
     "metadata": {},
     "output_type": "execute_result"
    }
   ],
   "source": [
    "oct(d)\n",
    "\n"
   ]
  },
  {
   "cell_type": "code",
   "execution_count": null,
   "id": "4781842c-4772-485a-ba9f-b8df944170e9",
   "metadata": {},
   "outputs": [],
   "source": [
    "#from any other number system to hex conversion"
   ]
  },
  {
   "cell_type": "code",
   "execution_count": 10,
   "id": "583a56ee-d9ce-471f-ad4b-77f9528ffa1d",
   "metadata": {},
   "outputs": [
    {
     "data": {
      "text/plain": [
       "'0x7'"
      ]
     },
     "execution_count": 10,
     "metadata": {},
     "output_type": "execute_result"
    }
   ],
   "source": [
    "hex(a)"
   ]
  },
  {
   "cell_type": "code",
   "execution_count": 11,
   "id": "a7ca85a2-afdc-4997-9912-aeb94f48f253",
   "metadata": {},
   "outputs": [
    {
     "data": {
      "text/plain": [
       "'0x49'"
      ]
     },
     "execution_count": 11,
     "metadata": {},
     "output_type": "execute_result"
    }
   ],
   "source": [
    "hex(b)"
   ]
  },
  {
   "cell_type": "code",
   "execution_count": 12,
   "id": "6c8c6f4f-273b-4178-9846-34ac7691e500",
   "metadata": {},
   "outputs": [
    {
     "data": {
      "text/plain": [
       "'0x111'"
      ]
     },
     "execution_count": 12,
     "metadata": {},
     "output_type": "execute_result"
    }
   ],
   "source": [
    "hex(c)"
   ]
  },
  {
   "cell_type": "code",
   "execution_count": 13,
   "id": "00a6581f-a93f-43e7-bd55-28af3fa0fcdd",
   "metadata": {},
   "outputs": [
    {
     "data": {
      "text/plain": [
       "'0x6f'"
      ]
     },
     "execution_count": 13,
     "metadata": {},
     "output_type": "execute_result"
    }
   ],
   "source": [
    "hex(d)"
   ]
  },
  {
   "cell_type": "code",
   "execution_count": 15,
   "id": "bb119ec4-1b7c-4bed-82e2-eefb46740ea6",
   "metadata": {},
   "outputs": [
    {
     "ename": "SyntaxError",
     "evalue": "invalid syntax (662869237.py, line 2)",
     "output_type": "error",
     "traceback": [
      "\u001b[1;36m  Cell \u001b[1;32mIn[15], line 2\u001b[1;36m\u001b[0m\n\u001b[1;33m    a=0b111.11\u001b[0m\n\u001b[1;37m           ^\u001b[0m\n\u001b[1;31mSyntaxError\u001b[0m\u001b[1;31m:\u001b[0m invalid syntax\n"
     ]
    }
   ],
   "source": [
    "#float type concersion not allowed\n",
    "a=0b111.11\n",
    "bin(a)"
   ]
  },
  {
   "cell_type": "code",
   "execution_count": null,
   "id": "1105eaf1-3bc5-4a0d-8d59-d886e74a6421",
   "metadata": {},
   "outputs": [],
   "source": []
  }
 ],
 "metadata": {
  "kernelspec": {
   "display_name": "Python 3 (ipykernel)",
   "language": "python",
   "name": "python3"
  },
  "language_info": {
   "codemirror_mode": {
    "name": "ipython",
    "version": 3
   },
   "file_extension": ".py",
   "mimetype": "text/x-python",
   "name": "python",
   "nbconvert_exporter": "python",
   "pygments_lexer": "ipython3",
   "version": "3.11.7"
  }
 },
 "nbformat": 4,
 "nbformat_minor": 5
}
